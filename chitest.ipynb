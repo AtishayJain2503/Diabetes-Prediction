{
 "cells": [
  {
   "cell_type": "code",
   "execution_count": 1,
   "metadata": {},
   "outputs": [],
   "source": [
    "import pandas as pd\n",
    "from scipy.stats import chi2_contingency\n",
    "\n",
    "df = pd.read_csv('/Users/sakshamjain/Desktop/Projects/JAIN-WIN/widsdatathon2021/TrainingWiDS2021.csv')\n",
    "df = df.drop(columns=['Unnamed: 0'])"
   ]
  },
  {
   "cell_type": "code",
   "execution_count": 2,
   "metadata": {},
   "outputs": [],
   "source": [
    "for column in df.columns:\n",
    "    if df[column].dtype == 'object':  # Assuming categorical columns are of object type\n",
    "        df[column].fillna(df[column].mode()[0], inplace=True)\n"
   ]
  },
  {
   "cell_type": "code",
   "execution_count": 3,
   "metadata": {},
   "outputs": [
    {
     "name": "stdout",
     "output_type": "stream",
     "text": [
      "Chi-square test result for ethnicity:\n",
      "Chi-square Statistic: 410.7726558949377, P-value: 1.413318740580587e-86\n",
      "\n",
      "Chi-square test result for gender:\n",
      "Chi-square Statistic: 4.572750639569122, P-value: 0.03248436681837012\n",
      "\n",
      "Chi-square test result for hospital_admit_source:\n",
      "Chi-square Statistic: 84.84089129653482, P-value: 3.5443526539925272e-12\n",
      "\n",
      "Chi-square test result for icu_admit_source:\n",
      "Chi-square Statistic: 89.15891475811641, P-value: 1.9868121384448728e-18\n",
      "\n",
      "Chi-square test result for icu_stay_type:\n",
      "Chi-square Statistic: 17.86897453246992, P-value: 0.00013176542939596493\n",
      "\n",
      "Chi-square test result for icu_type:\n",
      "Chi-square Statistic: 419.74596063922104, P-value: 1.3861723099952776e-86\n",
      "\n"
     ]
    }
   ],
   "source": [
    "target_column = 'diabetes_mellitus'  # Change this to your actual target column name\n",
    "categorical_columns = df.select_dtypes(include=['object']).columns.tolist()\n",
    "\n",
    "# Remove the target column from the list of categorical columns if it's there\n",
    "categorical_columns = [col for col in categorical_columns if col != target_column]\n",
    "\n",
    "chi_square_results = {}\n",
    "\n",
    "for column in categorical_columns:\n",
    "    contingency_table = pd.crosstab(df[column], df[target_column])\n",
    "    chi2, p, dof, expected = chi2_contingency(contingency_table)\n",
    "    chi_square_results[column] = {'chi2_statistic': chi2, 'p_value': p}\n",
    "\n",
    "# Display the results\n",
    "for column, results in chi_square_results.items():\n",
    "    print(f\"Chi-square test result for {column}:\")\n",
    "    print(f\"Chi-square Statistic: {results['chi2_statistic']}, P-value: {results['p_value']}\\n\")\n"
   ]
  },
  {
   "cell_type": "code",
   "execution_count": null,
   "metadata": {},
   "outputs": [],
   "source": []
  }
 ],
 "metadata": {
  "kernelspec": {
   "display_name": "Python 3",
   "language": "python",
   "name": "python3"
  },
  "language_info": {
   "codemirror_mode": {
    "name": "ipython",
    "version": 3
   },
   "file_extension": ".py",
   "mimetype": "text/x-python",
   "name": "python",
   "nbconvert_exporter": "python",
   "pygments_lexer": "ipython3",
   "version": "3.8.19"
  }
 },
 "nbformat": 4,
 "nbformat_minor": 2
}
