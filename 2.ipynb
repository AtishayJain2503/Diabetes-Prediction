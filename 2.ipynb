{
 "cells": [
  {
   "cell_type": "markdown",
   "metadata": {},
   "source": [
    "USING NB-3 to make predictions"
   ]
  },
  {
   "cell_type": "code",
   "execution_count": 2,
   "metadata": {},
   "outputs": [
    {
     "name": "stdout",
     "output_type": "stream",
     "text": [
      "              precision    recall  f1-score   support\n",
      "\n",
      "           0       0.84      0.95      0.89      1613\n",
      "           1       0.51      0.24      0.33       372\n",
      "\n",
      "    accuracy                           0.82      1985\n",
      "   macro avg       0.68      0.59      0.61      1985\n",
      "weighted avg       0.78      0.82      0.79      1985\n",
      "\n",
      "AUC ROC: 0.7806231626102433\n"
     ]
    }
   ],
   "source": [
    "from sklearn.model_selection import train_test_split\n",
    "from imblearn.over_sampling import SMOTE\n",
    "from sklearn.ensemble import RandomForestClassifier\n",
    "from sklearn.metrics import classification_report, roc_auc_score\n",
    "from sklearn.experimental import enable_iterative_imputer  # This line enables the experimental features\n",
    "from sklearn.impute import IterativeImputer\n",
    "from sklearn.preprocessing import StandardScaler\n",
    "import pandas as pd\n",
    "from imblearn.over_sampling import SVMSMOTE\n",
    "from imblearn.under_sampling import RandomUnderSampler\n",
    "\n",
    "train = pd.read_csv('training_data_imputed.csv')\n",
    "test=pd.read_csv(\"test_data_no_missing_values.csv\")\n",
    "\n",
    "# Assuming 'target' is the column name for the target variable\n",
    "y_train = train['diabetes_mellitus']\n",
    "X_train = train.drop('diabetes_mellitus', axis=1)\n",
    "\n",
    "y_test = test['diabetes_mellitus']\n",
    "X_test = test.drop('diabetes_mellitus', axis=1)\n",
    "\n",
    "# Scaling the data\n",
    "scaler = StandardScaler()\n",
    "X_train_scaled = scaler.fit_transform(X_train)\n",
    "X_test_scaled = scaler.transform(X_test)\n",
    "\n",
    "# Training the Random Forest Classifier\n",
    "rf_classifier = RandomForestClassifier(random_state=42)\n",
    "rf_classifier.fit(X_train_scaled, y_train)\n",
    "\n",
    "# Predictions\n",
    "y_pred = rf_classifier.predict(X_test_scaled)\n",
    "y_prob = rf_classifier.predict_proba(X_test_scaled)[:, 1]  # probabilities for AUC\n",
    "\n",
    "# Metrics\n",
    "classification_rep = classification_report(y_test, y_pred)\n",
    "roc_auc = roc_auc_score(y_test, y_prob)\n",
    "\n",
    "print(classification_rep)\n",
    "print('AUC ROC:', roc_auc)"
   ]
  },
  {
   "cell_type": "markdown",
   "metadata": {},
   "source": [
    "KNN IMPUTER"
   ]
  },
  {
   "cell_type": "code",
   "execution_count": 6,
   "metadata": {},
   "outputs": [
    {
     "name": "stdout",
     "output_type": "stream",
     "text": [
      "              precision    recall  f1-score   support\n",
      "\n",
      "           0       0.84      0.95      0.89     30574\n",
      "           1       0.66      0.32      0.43      8474\n",
      "\n",
      "    accuracy                           0.82     39048\n",
      "   macro avg       0.75      0.64      0.66     39048\n",
      "weighted avg       0.80      0.82      0.79     39048\n",
      "\n",
      "AUC ROC: 0.8158751929624575\n"
     ]
    }
   ],
   "source": [
    "from sklearn.model_selection import train_test_split\n",
    "from sklearn.ensemble import RandomForestClassifier\n",
    "from sklearn.metrics import classification_report, roc_auc_score\n",
    "from sklearn.impute import KNNImputer\n",
    "from sklearn.preprocessing import StandardScaler\n",
    "import pandas as pd\n",
    "\n",
    "# Load the data\n",
    "data = pd.read_csv('1.csv')\n",
    "\n",
    "# Binary encoding for 'gender'\n",
    "data['gender'] = data['gender'].astype('category').cat.codes\n",
    "\n",
    "# One-hot encoding for other categorical columns\n",
    "categorical_columns = ['ethnicity', 'hospital_admit_source', 'icu_admit_source', 'icu_stay_type', 'icu_type']\n",
    "data = pd.get_dummies(data, columns=categorical_columns)\n",
    "\n",
    "# Splitting the data into train and test sets\n",
    "X = data.drop(['diabetes_mellitus', 'encounter_id', 'hospital_id'], axis=1)\n",
    "y = data['diabetes_mellitus'].astype(int)  # Ensure the target is integer\n",
    "X_train, X_test, y_train, y_test = train_test_split(X, y, test_size=0.3, random_state=42)\n",
    "\n",
    "# Imputation on training and test sets separately using KNNImputer\n",
    "knn_imputer = KNNImputer(n_neighbors=5)  # Adjust n_neighbors as needed\n",
    "X_train_imputed = pd.DataFrame(knn_imputer.fit_transform(X_train), columns=X_train.columns)\n",
    "X_test_imputed = pd.DataFrame(knn_imputer.transform(X_test), columns=X_test.columns)\n",
    "\n",
    "# Scaling\n",
    "scaler = StandardScaler()\n",
    "X_train_scaled = pd.DataFrame(scaler.fit_transform(X_train_imputed), columns=X_train_imputed.columns)\n",
    "X_test_scaled = pd.DataFrame(scaler.transform(X_test_imputed), columns=X_test_imputed.columns)  \n",
    "\n",
    "# Training the Random Forest Classifier\n",
    "rf_classifier = RandomForestClassifier(random_state=42)\n",
    "rf_classifier.fit(X_train_scaled, y_train)\n",
    "\n",
    "# Predictions\n",
    "y_pred = rf_classifier.predict(X_test_scaled)\n",
    "y_prob = rf_classifier.predict_proba(X_test_scaled)[:, 1]  # probabilities for AUC\n",
    "\n",
    "# Metrics\n",
    "classification_rep = classification_report(y_test, y_pred)\n",
    "roc_auc = roc_auc_score(y_test, y_prob)\n",
    "\n",
    "print(classification_rep)\n",
    "print('AUC ROC:', roc_auc)\n"
   ]
  }
 ],
 "metadata": {
  "kernelspec": {
   "display_name": "Python 3",
   "language": "python",
   "name": "python3"
  },
  "language_info": {
   "codemirror_mode": {
    "name": "ipython",
    "version": 3
   },
   "file_extension": ".py",
   "mimetype": "text/x-python",
   "name": "python",
   "nbconvert_exporter": "python",
   "pygments_lexer": "ipython3",
   "version": "3.8.19"
  }
 },
 "nbformat": 4,
 "nbformat_minor": 2
}
